{
  "nbformat": 4,
  "nbformat_minor": 0,
  "metadata": {
    "colab": {
      "provenance": [],
      "authorship_tag": "ABX9TyOMW9tcGumVaKdoLEPV+tVM",
      "include_colab_link": true
    },
    "kernelspec": {
      "name": "python3",
      "display_name": "Python 3"
    },
    "language_info": {
      "name": "python"
    }
  },
  "cells": [
    {
      "cell_type": "markdown",
      "metadata": {
        "id": "view-in-github",
        "colab_type": "text"
      },
      "source": [
        "<a href=\"https://colab.research.google.com/github/Manerrando28/Aula-do-site-do-mercado/blob/main/Sprint3_DATA_SCIENCE.ipynb\" target=\"_parent\"><img src=\"https://colab.research.google.com/assets/colab-badge.svg\" alt=\"Open In Colab\"/></a>"
      ]
    },
    {
      "cell_type": "markdown",
      "source": [
        "# 🧠 Sprint 3 Data-Science\n",
        "\n",
        "\n"
      ],
      "metadata": {
        "id": "2MtVqzeCXwVo"
      }
    },
    {
      "cell_type": "markdown",
      "source": [
        "# Desafio 1: Baixa Visibilidade no Consumo de Materiais"
      ],
      "metadata": {
        "id": "e9C4P_a1asF6"
      }
    },
    {
      "cell_type": "markdown",
      "source": [
        "\n",
        "NOME:GABRIEL GUILHERME LESTE\n",
        "\n",
        "RM:558638\n",
        "\n",
        "\n",
        "NOME:GABRIEL LACERDA ARAUJO\n",
        "\n",
        "RM:558307\n",
        "\n",
        "\n",
        "NOME:GABRIEL LUNI NAKASIMA\n",
        "\n",
        "RM:558096\n",
        "\n"
      ],
      "metadata": {
        "id": "rIorniKWasCd"
      }
    },
    {
      "cell_type": "markdown",
      "source": [
        "1. Definição do Problema de Regressão\n",
        "Texto explicativo:\n",
        "O desafio envolve prever a quantidade de consumo mensal de reagentes nas unidades de diagnóstico. Essa variável é contínua e pode ser estimada com base em variáveis operacionais como número de exames realizados, tipo de exame, turno e unidade.\n"
      ],
      "metadata": {
        "id": "zdyA94sVX57Z"
      }
    },
    {
      "cell_type": "code",
      "source": [
        "# Simulando dados operacionais\n",
        "import pandas as pd\n",
        "import numpy as np\n",
        "\n",
        "np.random.seed(42)\n",
        "n = 100\n",
        "\n",
        "df = pd.DataFrame({\n",
        "    'Unidade': np.random.choice(['Unidade A', 'Unidade B', 'Unidade C'], n),\n",
        "    'Exames Realizados': np.random.randint(50, 300, n),\n",
        "    'Tipo de Exame': np.random.choice(['Sangue', 'Urina', 'Imagem'], n),\n",
        "    'Turno': np.random.choice(['Manhã', 'Tarde', 'Noite'], n),\n",
        "    'Consumo Real': np.random.normal(loc=100, scale=20, size=n)\n",
        "})"
      ],
      "metadata": {
        "id": "ODip_c0tX7CS"
      },
      "execution_count": 43,
      "outputs": []
    },
    {
      "cell_type": "markdown",
      "source": [
        "2. Hipóteses e Pressupostos\n",
        "Texto explicativo:\n",
        "Para validar a regressão linear, é necessário verificar:\n",
        "- Linearidade: relação entre variáveis deve ser aproximadamente reta.\n",
        "- Homoscedasticidade: resíduos devem ter variância constante.\n",
        "- Normalidade dos resíduos: resíduos devem seguir distribuição normal.\n",
        "Código:\n"
      ],
      "metadata": {
        "id": "5MbauJsTYKGg"
      }
    },
    {
      "cell_type": "code",
      "source": [
        "import seaborn as sns\n",
        "import matplotlib.pyplot as plt\n",
        "from sklearn.linear_model import LinearRegression\n",
        "\n",
        "# Codificando variáveis\n",
        "df['Tipo de Exame Cod'] = df['Tipo de Exame'].map({'Sangue': 1, 'Urina': 2, 'Imagem': 3})\n",
        "df['Turno Cod'] = df['Turno'].map({'Manhã': 1, 'Tarde': 2, 'Noite': 3})\n",
        "df['Unidade Cod'] = df['Unidade'].map({'Unidade A': 1, 'Unidade B': 2, 'Unidade C': 3})"
      ],
      "metadata": {
        "id": "O8qpgQpcYu_d"
      },
      "execution_count": 44,
      "outputs": []
    },
    {
      "cell_type": "markdown",
      "source": [
        "3. Construção do Modelo Simples:\n",
        "\n",
        "Vamos relacionar apenas a variável Exames Realizados com o Consumo Real.\n"
      ],
      "metadata": {
        "id": "8gIQADh2YzIp"
      }
    },
    {
      "cell_type": "code",
      "source": [
        "X_simples = df[['Exames Realizados']]\n",
        "y = df['Consumo Real']\n",
        "\n",
        "modelo_simples = LinearRegression()\n",
        "modelo_simples.fit(X_simples, y)\n",
        "y_pred_simples = modelo_simples.predict(X_simples)"
      ],
      "metadata": {
        "id": "MtQKQialZEIw"
      },
      "execution_count": 45,
      "outputs": []
    },
    {
      "cell_type": "markdown",
      "source": [
        "4. Interpretação:\n",
        "\n",
        "O coeficiente indica o quanto o consumo aumenta por exame realizado. O intercepto representa o consumo mínimo mesmo sem exames.\n"
      ],
      "metadata": {
        "id": "hxUtv-N5ZLu7"
      }
    },
    {
      "cell_type": "code",
      "source": [
        "print(\"Intercepto:\", modelo_simples.intercept_)\n",
        "print(\"Inclinação:\", modelo_simples.coef_[0])"
      ],
      "metadata": {
        "colab": {
          "base_uri": "https://localhost:8080/"
        },
        "id": "qLZ_hH3Xcv9r",
        "outputId": "0d364b87-1b24-43d0-cea8-0ef01c322483"
      },
      "execution_count": 46,
      "outputs": [
        {
          "output_type": "stream",
          "name": "stdout",
          "text": [
            "Intercepto: 107.91874269055941\n",
            "Inclinação: -0.02912064332619232\n"
          ]
        }
      ]
    },
    {
      "cell_type": "markdown",
      "source": [
        "5. Avaliação do Modelo Simples:\n",
        "\n",
        "Usamos R² para medir o poder explicativo e RMSE para medir o erro médio.\n"
      ],
      "metadata": {
        "id": "t-1QMJhicyMZ"
      }
    },
    {
      "cell_type": "code",
      "source": [
        "from sklearn.metrics import r2_score, mean_squared_error\n",
        "\n",
        "r2_simples = r2_score(y, y_pred_simples)\n",
        "rmse_simples = np.sqrt(mean_squared_error(y, y_pred_simples))\n",
        "print(f\"R²: {r2_simples:.4f}\")\n",
        "print(f\"RMSE: {rmse_simples:.2f}\")"
      ],
      "metadata": {
        "colab": {
          "base_uri": "https://localhost:8080/"
        },
        "id": "rTV3RokIZRVu",
        "outputId": "d3cc8067-a3d5-48d8-9983-7ceb3f067841"
      },
      "execution_count": 47,
      "outputs": [
        {
          "output_type": "stream",
          "name": "stdout",
          "text": [
            "R²: 0.0123\n",
            "RMSE: 20.32\n"
          ]
        }
      ]
    },
    {
      "cell_type": "markdown",
      "source": [
        "6. Expansão para Múltipla:\n",
        "\n",
        "Agora usamos várias variáveis independentes para melhorar a previsão.\n"
      ],
      "metadata": {
        "id": "CXEj-x-GZcS5"
      }
    },
    {
      "cell_type": "code",
      "source": [
        "X_multiplo = df[['Exames Realizados', 'Tipo de Exame Cod', 'Turno Cod', 'Unidade Cod']]\n",
        "modelo_multiplo = LinearRegression()\n",
        "modelo_multiplo.fit(X_multiplo, y)\n",
        "y_pred_multiplo = modelo_multiplo.predict(X_multiplo)"
      ],
      "metadata": {
        "id": "ZbR8ndEBZhI2"
      },
      "execution_count": 48,
      "outputs": []
    },
    {
      "cell_type": "markdown",
      "source": [
        "7. Análise dos Coeficientes:\n",
        "\n",
        "Analisamos quais variáveis têm maior impacto e se algum sinal é inesperado.\n"
      ],
      "metadata": {
        "id": "UV9q-w_LZkl7"
      }
    },
    {
      "cell_type": "code",
      "source": [
        "coeficientes = pd.Series(modelo_multiplo.coef_, index=X_multiplo.columns)\n",
        "print(coeficientes)"
      ],
      "metadata": {
        "colab": {
          "base_uri": "https://localhost:8080/"
        },
        "id": "f4v1qcpNZoSW",
        "outputId": "e47ece27-3f95-4d69-ac70-e38161bee19a"
      },
      "execution_count": 49,
      "outputs": [
        {
          "output_type": "stream",
          "name": "stdout",
          "text": [
            "Exames Realizados   -0.025981\n",
            "Tipo de Exame Cod   -1.063480\n",
            "Turno Cod            2.925474\n",
            "Unidade Cod         -0.279826\n",
            "dtype: float64\n"
          ]
        }
      ]
    },
    {
      "cell_type": "markdown",
      "source": [
        "8. Diagnóstico do Modelo:\n",
        "\n",
        "Verificamos se os resíduos seguem os pressupostos da regressão\n"
      ],
      "metadata": {
        "id": "0kFExcY4ZtvV"
      }
    },
    {
      "cell_type": "code",
      "source": [
        "residuos = y - y_pred_multiplo\n",
        "sns.histplot(residuos, kde=True, color='purple')\n",
        "plt.title('Distribuição dos Resíduos')\n",
        "plt.xlabel('Resíduo')\n",
        "plt.ylabel('Frequência')\n",
        "plt.show()"
      ],
      "metadata": {
        "colab": {
          "base_uri": "https://localhost:8080/",
          "height": 472
        },
        "id": "JWcsCftLZ1ke",
        "outputId": "118f5821-50b3-409c-ab76-c026df370dd2"
      },
      "execution_count": 50,
      "outputs": [
        {
          "output_type": "display_data",
          "data": {
            "text/plain": [
              "<Figure size 640x480 with 1 Axes>"
            ],
            "image/png": "[encoded data removed]"
          },
          "metadata": {}
        }
      ]
    },
    {
      "cell_type": "markdown",
      "source": [
        "9. Validação Cruzada:\n",
        "\n",
        "Aplicamos validação cruzada com k=5 para verificar a generalização do modelo\n"
      ],
      "metadata": {
        "id": "6OhUMHhzZ-k0"
      }
    },
    {
      "cell_type": "code",
      "source": [
        "from sklearn.model_selection import cross_val_score\n",
        "\n",
        "scores = cross_val_score(modelo_multiplo, X_multiplo, y, cv=5, scoring='r2')\n",
        "print(f\"R² médio na validação cruzada: {scores.mean():.4f}\")"
      ],
      "metadata": {
        "colab": {
          "base_uri": "https://localhost:8080/"
        },
        "id": "ueItCplAaK1L",
        "outputId": "bdbb5585-3aaf-46e8-a70d-acf52426b1e6"
      },
      "execution_count": 51,
      "outputs": [
        {
          "output_type": "stream",
          "name": "stdout",
          "text": [
            "R² médio na validação cruzada: -0.1423\n"
          ]
        }
      ]
    },
    {
      "cell_type": "markdown",
      "source": [
        "10. Aplicação no Negócio:\n",
        "\n",
        "O modelo pode ser usado para prever consumo futuro, planejar compras e evitar falta ou excesso de materiais.\n",
        "\n"
      ],
      "metadata": {
        "id": "oW8F6sPHaZJf"
      }
    },
    {
      "cell_type": "code",
      "source": [
        "df['Estoque Inicial'] = np.random.randint(80, 150, size=n)\n",
        "df['Estoque Final'] = df['Estoque Inicial'] - df['Consumo Real']\n",
        "df['Consumo Previsto'] = y_pred_multiplo\n",
        "df['Reposição Necessária'] = df['Consumo Previsto'] - df['Estoque Final']\n",
        "\n",
        "relatorio = df[['Unidade', 'Exames Realizados', 'Consumo Real', 'Consumo Previsto', 'Estoque Final', 'Reposição Necessária']]\n",
        "print(\"\\n🔔 Unidades com necessidade de reposição:\")\n",
        "print(relatorio[relatorio['Reposição Necessária'] > 0].sort_values(by='Reposição Necessária', ascending=False).head(10))\n",
        "\n",
        "sns.histplot(df['Reposição Necessária'], bins=20, kde=True, color='orange')\n",
        "plt.title('Distribuição da Necessidade de Reposição')\n",
        "plt.xlabel('Quantidade a Repor')\n",
        "plt.ylabel('Número de Unidades')\n",
        "plt.show()"
      ],
      "metadata": {
        "colab": {
          "base_uri": "https://localhost:8080/",
          "height": 928
        },
        "id": "lYYkje28aaIn",
        "outputId": "ac9c5329-1599-4cb8-84bd-ee379ea26fed"
      },
      "execution_count": 52,
      "outputs": [
        {
          "output_type": "stream",
          "name": "stdout",
          "text": [
            "\n",
            "🔔 Unidades com necessidade de reposição:\n",
            "      Unidade  Exames Realizados  Consumo Real  Consumo Previsto  \\\n",
            "51  Unidade A                 64    133.027020        104.939127   \n",
            "57  Unidade A                112    137.440114        107.680979   \n",
            "77  Unidade C                292    125.610815         97.657230   \n",
            "32  Unidade B                153    147.780719        107.399402   \n",
            "4   Unidade A                188    118.102439        106.769882   \n",
            "28  Unidade C                265    131.207603         97.295244   \n",
            "35  Unidade B                 84    116.575320        109.192110   \n",
            "38  Unidade A                150    120.960395        106.693691   \n",
            "71  Unidade B                 78    118.194763        104.295563   \n",
            "53  Unidade A                 91    136.874316        107.163106   \n",
            "\n",
            "    Estoque Final  Reposição Necessária  \n",
            "51     -49.027020            153.966147  \n",
            "57     -41.440114            149.121093  \n",
            "77     -43.610815            141.268045  \n",
            "32     -26.780719            134.180121  \n",
            "4      -27.102439            133.872322  \n",
            "28     -36.207603            133.502847  \n",
            "35     -23.575320            132.767430  \n",
            "38     -23.960395            130.654086  \n",
            "71     -26.194763            130.490327  \n",
            "53     -20.874316            128.037422  \n"
          ]
        },
        {
          "output_type": "display_data",
          "data": {
            "text/plain": [
              "<Figure size 640x480 with 1 Axes>"
            ],
            "image/png": "[encoded data removed]"
          },
          "metadata": {}
        }
      ]
    }
  ]
}